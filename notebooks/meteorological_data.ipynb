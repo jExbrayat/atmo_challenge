{
 "cells": [
  {
   "cell_type": "code",
   "execution_count": null,
   "metadata": {},
   "outputs": [],
   "source": [
    "import pandas as pd\n",
    "import matplotlib.pyplot as plt\n",
    "import matplotlib.dates as mdates\n",
    "import requests\n",
    "import seaborn as sns\n",
    "import json\n",
    "import sys\n",
    "import os\n",
    "\n",
    "# Import modules defined in src/\n",
    "sys.path.append(os.path.abspath('../src'))\n",
    "\n",
    "%matplotlib qt"
   ]
  },
  {
   "cell_type": "code",
   "execution_count": null,
   "metadata": {},
   "outputs": [],
   "source": [
    "# Set seaborn theme\n",
    "sns.set_theme()"
   ]
  },
  {
   "cell_type": "markdown",
   "metadata": {},
   "source": [
    "# Get data"
   ]
  },
  {
   "cell_type": "markdown",
   "metadata": {},
   "source": [
    "Read your personal API key"
   ]
  },
  {
   "cell_type": "code",
   "execution_count": null,
   "metadata": {},
   "outputs": [],
   "source": [
    "with open(\"../api_key\", \"r\") as file:\n",
    "    API_KEY = file.read()"
   ]
  },
  {
   "cell_type": "code",
   "execution_count": null,
   "metadata": {},
   "outputs": [],
   "source": [
    "def get_data(code_polluant: int) -> pd.DataFrame:\n",
    "\n",
    "    # Define the API endpoint and parameters\n",
    "    url = \"https://api.atmo-aura.fr/api/v1/valeurs/horaire\"\n",
    "\n",
    "    data = pd.DataFrame()\n",
    "\n",
    "    for site_id in [\"FR15038\", \"FR15043\", \"FR15053\"]:\n",
    "        params = {\n",
    "            \"api_token\": API_KEY,\n",
    "            \"format\": \"json\",\n",
    "            \"sites\": site_id,\n",
    "            \"date_debut\": \"-2 years\",\n",
    "            \"code_polluant\": str(code_polluant),\n",
    "            \"order_by_date\": \"asc\",\n",
    "            \"valeur_brute\": \"1\"\n",
    "        }\n",
    "\n",
    "        # Make the GET request\n",
    "        response = requests.get(url, params=params)\n",
    "\n",
    "        response = json.loads(response.text)\n",
    "        data = pd.concat([data, pd.DataFrame(response[\"data\"])], ignore_index=True)\n",
    "\n",
    "        while response[\"links\"][\"next\"] is not None:\n",
    "            response = requests.get(response[\"links\"][\"next\"])\n",
    "            response = json.loads(response.text)\n",
    "            data = pd.concat([data, pd.DataFrame(response[\"data\"])], ignore_index=True)\n",
    "\n",
    "    data[\"date\"] = pd.to_datetime(data[\"date\"])\n",
    "    data[\"date\"] = data[\"date\"].dt.tz_localize(None)\n",
    "\n",
    "    return data"
   ]
  },
  {
   "cell_type": "code",
   "execution_count": null,
   "metadata": {},
   "outputs": [],
   "source": [
    "class site():\n",
    "    def __init__(self, data, site_id):\n",
    "        self.data = data[data[\"site_id\"] == site_id]\n",
    "\n",
    "        if self.data.empty:\n",
    "            raise ValueError(\"No data available for this site\")\n",
    "        \n",
    "        self.site_id = site_id\n",
    "\n",
    "        self.reference_data = self.data.query(\"type_appareil_id == 11\")\n",
    "        self.reference_values = self.reference_data.loc[:, [\"valeur\", \"date\"]]\n",
    "\n",
    "        self.microsensor_data = self.data.query(\"type_appareil_id == 57\")\n",
    "        self.microsensor_values = self.microsensor_data.loc[:, [\"valeur\", \"date\"]]\n",
    "\n",
    "    def get_reference_data(self):\n",
    "        return self.reference_data\n",
    "    \n",
    "    def get_microsensor_data(self):\n",
    "        return self.microsensor_data\n",
    "    \n",
    "    def get_reference_values(self):\n",
    "        return self.reference_values\n",
    "    \n",
    "    def get_microsensor_values(self):\n",
    "        return self.microsensor_values\n",
    "    \n",
    "    def filter_date(self, start_date, end_date):\n",
    "        reference = self.get_reference_data()\n",
    "        microsensor = self.get_microsensor_data()\n",
    "\n",
    "        reference = reference[(reference[\"date\"] >= start_date) & (reference[\"date\"] <= end_date)]\n",
    "        microsensor = microsensor[(microsensor[\"date\"] >= start_date) & (microsensor[\"date\"] <= end_date)]\n",
    "\n",
    "        return reference, microsensor\n",
    "    \n",
    "    def plot(self, ax = None, *, kwargs = {}):\n",
    "        # Retrieve polutant label\n",
    "        polutant_label = self.data.loc[0, \"label_polluant\"]\n",
    "        # Retrieve measure unit\n",
    "        measure_unit = self.data.loc[0, \"unite\"]\n",
    "\n",
    "        if ax is None:\n",
    "            ax = plt.gca()\n",
    "\n",
    "        x_ref = self.reference_values[\"date\"]\n",
    "        y_ref = self.reference_values[\"valeur\"]\n",
    "\n",
    "        x_micro = self.microsensor_values[\"date\"]\n",
    "        y_micro = self.microsensor_values[\"valeur\"]\n",
    "\n",
    "        ax.plot(x_ref, y_ref, label=\"Reference values\")\n",
    "        ax.plot(x_micro, y_micro, label=\"Microsensor values\")\n",
    "        ax.set_title(f\"{polutant_label} values for site {self.site_id}\")\n",
    "        ax.set_xlabel(\"Date\")\n",
    "        ax.set_ylabel(measure_unit)\n",
    "        ax.xaxis.set_major_formatter(mdates.ConciseDateFormatter(ax.xaxis.get_major_locator()))\n",
    "        ax.legend()\n",
    "    \n",
    "        return ax"
   ]
  },
  {
   "cell_type": "code",
   "execution_count": null,
   "metadata": {},
   "outputs": [],
   "source": [
    "code_polluant = 54\n",
    "temperature = get_data(code_polluant=code_polluant)"
   ]
  },
  {
   "cell_type": "code",
   "execution_count": null,
   "metadata": {},
   "outputs": [],
   "source": [
    "code_polluant = 58\n",
    "humidity = get_data(code_polluant=code_polluant)"
   ]
  },
  {
   "cell_type": "code",
   "execution_count": null,
   "metadata": {},
   "outputs": [],
   "source": [
    "site_id_dict = {\n",
    "    \"Saint Martin d'Hères\": \"FR15038\",\n",
    "    \"Les Frenes\": \"FR15043\",\n",
    "    \"Rocade Sud\": \"FR15053\",\n",
    "}\n",
    "\n",
    "SMH_temp = site(temperature, site_id_dict[\"Saint Martin d'Hères\"])\n",
    "SMH_humidity = site(humidity, site_id_dict[\"Saint Martin d'Hères\"])"
   ]
  },
  {
   "cell_type": "code",
   "execution_count": null,
   "metadata": {},
   "outputs": [
    {
     "data": {
      "text/plain": [
       "<Axes: title={'center': 'température values for site FR15038'}, xlabel='Date', ylabel='degré C'>"
      ]
     },
     "execution_count": null,
     "metadata": {},
     "output_type": "execute_result"
    }
   ],
   "source": [
    "SMH_temp.plot()"
   ]
  },
  {
   "cell_type": "code",
   "execution_count": null,
   "metadata": {},
   "outputs": [
    {
     "data": {
      "text/plain": [
       "<Axes: title={'center': 'humidité relative values for site FR15038'}, xlabel='Date', ylabel='%'>"
      ]
     },
     "execution_count": null,
     "metadata": {},
     "output_type": "execute_result"
    }
   ],
   "source": [
    "SMH_humidity.plot()"
   ]
  },
  {
   "cell_type": "markdown",
   "metadata": {},
   "source": [
    "# Merge datasets"
   ]
  },
  {
   "cell_type": "code",
   "execution_count": null,
   "metadata": {},
   "outputs": [],
   "source": [
    "humidity_temperature = pd.merge(SMH_temp.data, SMH_humidity.data, on=\"date\")"
   ]
  },
  {
   "cell_type": "code",
   "execution_count": null,
   "metadata": {},
   "outputs": [
    {
     "data": {
      "text/plain": [
       "Index(['mesure_id_x', 'date', 'valeur_x', 'validation_x', 'site_id_x',\n",
       "       'type_appareil_id_x', 'type_appareil_label_x', 'code_polluant_x',\n",
       "       'label_polluant_x', 'id_poll_ue_x', 'label_court_polluant_x',\n",
       "       'label_unite_x', 'label_court_unite_x', 'unite_x', 'site_label_x',\n",
       "       'mesure_id_y', 'valeur_y', 'validation_y', 'site_id_y',\n",
       "       'type_appareil_id_y', 'type_appareil_label_y', 'code_polluant_y',\n",
       "       'label_polluant_y', 'id_poll_ue_y', 'label_court_polluant_y',\n",
       "       'label_unite_y', 'label_court_unite_y', 'unite_y', 'site_label_y'],\n",
       "      dtype='object')"
      ]
     },
     "execution_count": null,
     "metadata": {},
     "output_type": "execute_result"
    }
   ],
   "source": [
    "humidity_temperature.columns"
   ]
  },
  {
   "cell_type": "code",
   "execution_count": null,
   "metadata": {},
   "outputs": [],
   "source": [
    "# Keep useful columns\n",
    "humidity_temperature.drop(columns=[col for col in humidity_temperature.columns if col not in [\"date\", \"valeur_x\", \"valeur_y\"]], inplace=True)"
   ]
  },
  {
   "cell_type": "code",
   "execution_count": null,
   "metadata": {},
   "outputs": [
    {
     "data": {
      "text/html": [
       "<div>\n",
       "<style scoped>\n",
       "    .dataframe tbody tr th:only-of-type {\n",
       "        vertical-align: middle;\n",
       "    }\n",
       "\n",
       "    .dataframe tbody tr th {\n",
       "        vertical-align: top;\n",
       "    }\n",
       "\n",
       "    .dataframe thead th {\n",
       "        text-align: right;\n",
       "    }\n",
       "</style>\n",
       "<table border=\"1\" class=\"dataframe\">\n",
       "  <thead>\n",
       "    <tr style=\"text-align: right;\">\n",
       "      <th></th>\n",
       "      <th>date</th>\n",
       "      <th>valeur_x</th>\n",
       "      <th>valeur_y</th>\n",
       "    </tr>\n",
       "  </thead>\n",
       "  <tbody>\n",
       "    <tr>\n",
       "      <th>0</th>\n",
       "      <td>2022-12-16 12:00:00</td>\n",
       "      <td>5.18</td>\n",
       "      <td>99.9</td>\n",
       "    </tr>\n",
       "    <tr>\n",
       "      <th>1</th>\n",
       "      <td>2022-12-16 13:00:00</td>\n",
       "      <td>4.87</td>\n",
       "      <td>99.9</td>\n",
       "    </tr>\n",
       "    <tr>\n",
       "      <th>2</th>\n",
       "      <td>2022-12-16 14:00:00</td>\n",
       "      <td>4.73</td>\n",
       "      <td>99.9</td>\n",
       "    </tr>\n",
       "    <tr>\n",
       "      <th>3</th>\n",
       "      <td>2022-12-16 15:00:00</td>\n",
       "      <td>4.55</td>\n",
       "      <td>99.9</td>\n",
       "    </tr>\n",
       "    <tr>\n",
       "      <th>4</th>\n",
       "      <td>2022-12-16 16:00:00</td>\n",
       "      <td>4.10</td>\n",
       "      <td>99.9</td>\n",
       "    </tr>\n",
       "  </tbody>\n",
       "</table>\n",
       "</div>"
      ],
      "text/plain": [
       "                 date  valeur_x  valeur_y\n",
       "0 2022-12-16 12:00:00      5.18      99.9\n",
       "1 2022-12-16 13:00:00      4.87      99.9\n",
       "2 2022-12-16 14:00:00      4.73      99.9\n",
       "3 2022-12-16 15:00:00      4.55      99.9\n",
       "4 2022-12-16 16:00:00      4.10      99.9"
      ]
     },
     "execution_count": null,
     "metadata": {},
     "output_type": "execute_result"
    }
   ],
   "source": [
    "humidity_temperature.head()"
   ]
  },
  {
   "cell_type": "code",
   "execution_count": null,
   "metadata": {},
   "outputs": [],
   "source": [
    "humidity_temperature.to_csv(\"../data/smh_23-24_humidity_temp.csv\")"
   ]
  }
 ],
 "metadata": {
  "kernelspec": {
   "display_name": "atmo-challenge-3vYJEt9I-py3.12",
   "language": "python",
   "name": "python3"
  },
  "language_info": {
   "codemirror_mode": {
    "name": "ipython",
    "version": 3
   },
   "file_extension": ".py",
   "mimetype": "text/x-python",
   "name": "python",
   "nbconvert_exporter": "python",
   "pygments_lexer": "ipython3"
  }
 },
 "nbformat": 4,
 "nbformat_minor": 2
}
