{
 "cells": [
  {
   "cell_type": "code",
   "execution_count": 240,
   "metadata": {},
   "outputs": [],
   "source": [
    "import pandas as pd\n",
    "import numpy as np\n",
    "from sklearn.ensemble import IsolationForest\n",
    "from sklearn.linear_model import Ridge\n",
    "from sklearn.preprocessing import MinMaxScaler\n",
    "import matplotlib.pyplot as plt\n",
    "\n",
    "%matplotlib qt"
   ]
  },
  {
   "cell_type": "markdown",
   "metadata": {},
   "source": [
    "# Create learning dataset"
   ]
  },
  {
   "cell_type": "code",
   "execution_count": 241,
   "metadata": {},
   "outputs": [],
   "source": [
    "dataset = pd.read_csv(\"../data/ready_to_use_datasets/smh.csv\")"
   ]
  },
  {
   "cell_type": "code",
   "execution_count": 242,
   "metadata": {},
   "outputs": [],
   "source": [
    "dataset[\"date\"] = pd.to_datetime(dataset[\"date\"])"
   ]
  },
  {
   "cell_type": "code",
   "execution_count": 243,
   "metadata": {},
   "outputs": [],
   "source": [
    "dataset.head()\n",
    "# Use only 2023 data\n",
    "dataset = dataset[dataset[\"date\"].dt.year == 2023]"
   ]
  },
  {
   "cell_type": "code",
   "execution_count": 244,
   "metadata": {},
   "outputs": [],
   "source": [
    "X = dataset[[\"microsensor_pm25\", \"reference_pm25\"]]\n",
    "X_ref = X[\"reference_pm25\"].values.reshape(-1, 1)\n",
    "X_micro = X[\"microsensor_pm25\"].values.reshape(-1, 1)"
   ]
  },
  {
   "cell_type": "markdown",
   "metadata": {},
   "source": [
    "# Isolation forest"
   ]
  },
  {
   "cell_type": "markdown",
   "metadata": {},
   "source": [
    "## Train the model"
   ]
  },
  {
   "cell_type": "code",
   "execution_count": 246,
   "metadata": {},
   "outputs": [
    {
     "data": {
      "text/html": [
       "<style>#sk-container-id-17 {color: black;background-color: white;}#sk-container-id-17 pre{padding: 0;}#sk-container-id-17 div.sk-toggleable {background-color: white;}#sk-container-id-17 label.sk-toggleable__label {cursor: pointer;display: block;width: 100%;margin-bottom: 0;padding: 0.3em;box-sizing: border-box;text-align: center;}#sk-container-id-17 label.sk-toggleable__label-arrow:before {content: \"▸\";float: left;margin-right: 0.25em;color: #696969;}#sk-container-id-17 label.sk-toggleable__label-arrow:hover:before {color: black;}#sk-container-id-17 div.sk-estimator:hover label.sk-toggleable__label-arrow:before {color: black;}#sk-container-id-17 div.sk-toggleable__content {max-height: 0;max-width: 0;overflow: hidden;text-align: left;background-color: #f0f8ff;}#sk-container-id-17 div.sk-toggleable__content pre {margin: 0.2em;color: black;border-radius: 0.25em;background-color: #f0f8ff;}#sk-container-id-17 input.sk-toggleable__control:checked~div.sk-toggleable__content {max-height: 200px;max-width: 100%;overflow: auto;}#sk-container-id-17 input.sk-toggleable__control:checked~label.sk-toggleable__label-arrow:before {content: \"▾\";}#sk-container-id-17 div.sk-estimator input.sk-toggleable__control:checked~label.sk-toggleable__label {background-color: #d4ebff;}#sk-container-id-17 div.sk-label input.sk-toggleable__control:checked~label.sk-toggleable__label {background-color: #d4ebff;}#sk-container-id-17 input.sk-hidden--visually {border: 0;clip: rect(1px 1px 1px 1px);clip: rect(1px, 1px, 1px, 1px);height: 1px;margin: -1px;overflow: hidden;padding: 0;position: absolute;width: 1px;}#sk-container-id-17 div.sk-estimator {font-family: monospace;background-color: #f0f8ff;border: 1px dotted black;border-radius: 0.25em;box-sizing: border-box;margin-bottom: 0.5em;}#sk-container-id-17 div.sk-estimator:hover {background-color: #d4ebff;}#sk-container-id-17 div.sk-parallel-item::after {content: \"\";width: 100%;border-bottom: 1px solid gray;flex-grow: 1;}#sk-container-id-17 div.sk-label:hover label.sk-toggleable__label {background-color: #d4ebff;}#sk-container-id-17 div.sk-serial::before {content: \"\";position: absolute;border-left: 1px solid gray;box-sizing: border-box;top: 0;bottom: 0;left: 50%;z-index: 0;}#sk-container-id-17 div.sk-serial {display: flex;flex-direction: column;align-items: center;background-color: white;padding-right: 0.2em;padding-left: 0.2em;position: relative;}#sk-container-id-17 div.sk-item {position: relative;z-index: 1;}#sk-container-id-17 div.sk-parallel {display: flex;align-items: stretch;justify-content: center;background-color: white;position: relative;}#sk-container-id-17 div.sk-item::before, #sk-container-id-17 div.sk-parallel-item::before {content: \"\";position: absolute;border-left: 1px solid gray;box-sizing: border-box;top: 0;bottom: 0;left: 50%;z-index: -1;}#sk-container-id-17 div.sk-parallel-item {display: flex;flex-direction: column;z-index: 1;position: relative;background-color: white;}#sk-container-id-17 div.sk-parallel-item:first-child::after {align-self: flex-end;width: 50%;}#sk-container-id-17 div.sk-parallel-item:last-child::after {align-self: flex-start;width: 50%;}#sk-container-id-17 div.sk-parallel-item:only-child::after {width: 0;}#sk-container-id-17 div.sk-dashed-wrapped {border: 1px dashed gray;margin: 0 0.4em 0.5em 0.4em;box-sizing: border-box;padding-bottom: 0.4em;background-color: white;}#sk-container-id-17 div.sk-label label {font-family: monospace;font-weight: bold;display: inline-block;line-height: 1.2em;}#sk-container-id-17 div.sk-label-container {text-align: center;}#sk-container-id-17 div.sk-container {/* jupyter's `normalize.less` sets `[hidden] { display: none; }` but bootstrap.min.css set `[hidden] { display: none !important; }` so we also need the `!important` here to be able to override the default hidden behavior on the sphinx rendered scikit-learn.org. See: https://github.com/scikit-learn/scikit-learn/issues/21755 */display: inline-block !important;position: relative;}#sk-container-id-17 div.sk-text-repr-fallback {display: none;}</style><div id=\"sk-container-id-17\" class=\"sk-top-container\"><div class=\"sk-text-repr-fallback\"><pre>IsolationForest()</pre><b>In a Jupyter environment, please rerun this cell to show the HTML representation or trust the notebook. <br />On GitHub, the HTML representation is unable to render, please try loading this page with nbviewer.org.</b></div><div class=\"sk-container\" hidden><div class=\"sk-item\"><div class=\"sk-estimator sk-toggleable\"><input class=\"sk-toggleable__control sk-hidden--visually\" id=\"sk-estimator-id-17\" type=\"checkbox\" checked><label for=\"sk-estimator-id-17\" class=\"sk-toggleable__label sk-toggleable__label-arrow\">IsolationForest</label><div class=\"sk-toggleable__content\"><pre>IsolationForest()</pre></div></div></div></div></div>"
      ],
      "text/plain": [
       "IsolationForest()"
      ]
     },
     "execution_count": 246,
     "metadata": {},
     "output_type": "execute_result"
    }
   ],
   "source": [
    "model = IsolationForest()\n",
    "model.fit(X_ref)"
   ]
  },
  {
   "cell_type": "markdown",
   "metadata": {},
   "source": [
    "## Analyse model"
   ]
  },
  {
   "cell_type": "code",
   "execution_count": 247,
   "metadata": {},
   "outputs": [],
   "source": [
    "y_pred = model.predict(X_micro)\n",
    "outliers = y_pred == -1\n",
    "regular = y_pred == 1"
   ]
  },
  {
   "cell_type": "code",
   "execution_count": 248,
   "metadata": {},
   "outputs": [
    {
     "name": "stdout",
     "output_type": "stream",
     "text": [
      "Proportion of outliers: 0.39\n"
     ]
    }
   ],
   "source": [
    "print(f\"Proportion of outliers: {round(sum(outliers) / (sum(outliers) + sum(regular)), 3)}\")"
   ]
  },
  {
   "cell_type": "code",
   "execution_count": 249,
   "metadata": {},
   "outputs": [],
   "source": [
    "# Plot the reference data, the microsensor data and color the microsensor data that are outliers\n",
    "plt.figure(figsize=(10, 6))\n",
    "plt.plot(dataset[\"date\"], X_ref, color=\"blue\", label=\"Reference\")\n",
    "plt.plot(dataset[\"date\"], X_micro, color=\"green\", label=\"Microsensor\")\n",
    "plt.scatter(dataset[\"date\"][outliers], X_micro[outliers], marker='.', color=\"red\", label=\"Outliers\")\n",
    "plt.legend()\n",
    "plt.show()"
   ]
  },
  {
   "cell_type": "markdown",
   "metadata": {},
   "source": [
    "## Calibrate using Ridge Regression"
   ]
  },
  {
   "cell_type": "code",
   "execution_count": 250,
   "metadata": {},
   "outputs": [
    {
     "name": "stdout",
     "output_type": "stream",
     "text": [
      "Mean Squared Error: [10.02824697]\n",
      "Mean Squared Error Raw: [44.56150317]\n"
     ]
    }
   ],
   "source": [
    "fig, ax = plt.subplots(1, 1, figsize=(10, 6))\n",
    "\n",
    "MSE = []\n",
    "MSE_raw = []\n",
    "\n",
    "# One week is 168 hours, so we will use a window of 4 weeks\n",
    "window_size = 168*4\n",
    "\n",
    "X_micro_calibrated = []\n",
    "\n",
    "for i in range(0, len(X_ref), window_size):\n",
    "    calibration_model = Ridge()\n",
    "\n",
    "    t = range(i, i+window_size)\n",
    "    \n",
    "    if i + window_size > len(X_ref):\n",
    "        t = range(i, len(X_ref))\n",
    "\n",
    "    week_ref = X_ref[t]\n",
    "    week_micro = X_micro[t]\n",
    "\n",
    "    calibration_model.fit(week_ref, week_micro)\n",
    "    y_pred = calibration_model.predict(week_ref)\n",
    "\n",
    "    parameters = calibration_model.coef_\n",
    "    bias = calibration_model.intercept_\n",
    "\n",
    "    # Calibrate the microsensor data\n",
    "    week_micro_calibrated = (week_micro - bias) / parameters[0]\n",
    "\n",
    "    MSE.append(sum((week_ref - week_micro_calibrated) ** 2) / len(week_ref))\n",
    "    MSE_raw.append(sum((week_ref - week_micro) ** 2) / len(week_ref))\n",
    "\n",
    "    X_micro_calibrated.extend(week_micro_calibrated)\n",
    "\n",
    "X_micro_calibrated = np.array(X_micro_calibrated)\n",
    "X_micro_calibrated = X_micro_calibrated.reshape(-1, 1)\n",
    "\n",
    "plt.plot(dataset[\"date\"], X_ref, color=\"blue\", label=\"Reference\")\n",
    "plt.plot(dataset[\"date\"], X_micro, color=\"red\", label=\"Microsensor\")\n",
    "plt.plot(dataset[\"date\"], X_micro_calibrated, color=\"green\", label=\"Microsensor Calibrated\")\n",
    "plt.legend()\n",
    "plt.show()\n",
    "\n",
    "print(f\"Mean Squared Error: {sum(MSE) / len(MSE)}\")\n",
    "print(f\"Mean Squared Error Raw: {sum(MSE_raw) / len(MSE_raw)}\")\n",
    "\n",
    "# Plot the MSE\n",
    "plt.figure(figsize=(10, 6))\n",
    "plt.plot(range(len(MSE)), MSE)\n",
    "plt.plot(range(len(MSE_raw)), MSE_raw)\n",
    "plt.show()\n"
   ]
  },
  {
   "cell_type": "code",
   "execution_count": 259,
   "metadata": {},
   "outputs": [
    {
     "name": "stdout",
     "output_type": "stream",
     "text": [
      "Proportion of outliers: 0.318\n",
      "Proportion of outliers: 0.406\n",
      "Proportion of outliers: 0.445\n",
      "Proportion of outliers: 0.339\n",
      "Proportion of outliers: 0.369\n",
      "Proportion of outliers: 0.277\n",
      "Proportion of outliers: 0.39\n",
      "Proportion of outliers: 0.5\n",
      "Proportion of outliers: 0.342\n",
      "Proportion of outliers: 0.558\n",
      "Proportion of outliers: 0.464\n",
      "Proportion of outliers: 0.271\n",
      "Proportion of outliers: 0.387\n"
     ]
    }
   ],
   "source": [
    "y_pred = model.predict(X_micro_calibrated)\n",
    "\n",
    "window_size = 168*4\n",
    "\n",
    "for i in range(0, len(X_ref), window_size):\n",
    "    calibration_model = Ridge()\n",
    "\n",
    "    t = range(i, i+window_size)\n",
    "    \n",
    "    if i + window_size > len(X_ref):\n",
    "        t = range(i, len(X_ref))\n",
    "\n",
    "    window_X_ref = X_ref[t]\n",
    "    window_X_micro_calibrated = X_micro_calibrated[t]\n",
    "\n",
    "    model = IsolationForest()\n",
    "    model.fit(window_X_ref)\n",
    "\n",
    "    y_pred = model.predict(window_X_micro_calibrated)\n",
    "\n",
    "    outliers = y_pred == -1\n",
    "    regular = y_pred == 1\n",
    "\n",
    "    print(f\"Proportion of outliers: {round(sum(outliers) / (sum(outliers) + sum(regular)), 3)}\")"
   ]
  },
  {
   "cell_type": "code",
   "execution_count": 254,
   "metadata": {},
   "outputs": [
    {
     "name": "stdout",
     "output_type": "stream",
     "text": [
      "Proportion of outliers: 0.296\n"
     ]
    }
   ],
   "source": [
    "print(f\"Proportion of outliers: {round(sum(outliers) / (sum(outliers) + sum(regular)), 3)}\")"
   ]
  },
  {
   "cell_type": "code",
   "execution_count": 253,
   "metadata": {},
   "outputs": [],
   "source": [
    "# Plot the reference data, the microsensor data and color the microsensor data that are outliers\n",
    "plt.figure(figsize=(10, 6))\n",
    "plt.plot(dataset[\"date\"], X_ref, color=\"blue\", label=\"Reference\")\n",
    "plt.plot(dataset[\"date\"], X_micro_calibrated, color=\"green\", label=\"Microsensor Calibrated\")\n",
    "plt.scatter(dataset[\"date\"][outliers], X_micro_calibrated[outliers], marker='.', color=\"red\", label=\"Outliers\")\n",
    "plt.legend()\n",
    "plt.show()"
   ]
  }
 ],
 "metadata": {
  "kernelspec": {
   "display_name": "Python 3",
   "language": "python",
   "name": "python3"
  },
  "language_info": {
   "codemirror_mode": {
    "name": "ipython",
    "version": 3
   },
   "file_extension": ".py",
   "mimetype": "text/x-python",
   "name": "python",
   "nbconvert_exporter": "python",
   "pygments_lexer": "ipython3",
   "version": "3.11.1"
  }
 },
 "nbformat": 4,
 "nbformat_minor": 2
}
