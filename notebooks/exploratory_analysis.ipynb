{
 "cells": [
  {
   "cell_type": "code",
   "execution_count": 1,
   "metadata": {},
   "outputs": [],
   "source": [
    "import pandas as pd\n",
    "import matplotlib.pyplot as plt\n",
    "import matplotlib.cbook as cbook\n",
    "import matplotlib.dates as mdates\n",
    "import requests\n",
    "import json\n",
    "\n",
    "%matplotlib qt"
   ]
  },
  {
   "cell_type": "markdown",
   "metadata": {},
   "source": [
    "# Get data"
   ]
  },
  {
   "cell_type": "markdown",
   "metadata": {},
   "source": [
    "Read your personal API key"
   ]
  },
  {
   "cell_type": "code",
   "execution_count": 2,
   "metadata": {},
   "outputs": [],
   "source": [
    "with open(\"../api_key\", \"r\") as file:\n",
    "    API_KEY = file.read()"
   ]
  },
  {
   "cell_type": "code",
   "execution_count": 3,
   "metadata": {},
   "outputs": [],
   "source": [
    "# Define the API endpoint and parameters\n",
    "url = \"https://api.atmo-aura.fr/api/v1/valeurs/horaire\"\n",
    "\n",
    "data = pd.DataFrame()\n",
    "\n",
    "for site_id in [\"FR15038\", \"FR15043\", \"FR15053\"]:\n",
    "    params = {\n",
    "        \"api_token\": API_KEY,\n",
    "        \"format\": \"json\",\n",
    "        \"sites\": site_id,\n",
    "        \"date_debut\": \"-2 years\",\n",
    "        \"label_court_polluant\": \"PM2.5\",\n",
    "        \"order_by_date\": \"asc\",\n",
    "    }\n",
    "\n",
    "    # Make the GET request\n",
    "    response = requests.get(url, params=params)\n",
    "\n",
    "    response = json.loads(response.text)\n",
    "    data = pd.concat([data, pd.DataFrame(response[\"data\"])], ignore_index=True)\n",
    "\n",
    "    while response[\"links\"][\"next\"] is not None:\n",
    "        response = requests.get(response[\"links\"][\"next\"])\n",
    "        response = json.loads(response.text)\n",
    "        data = pd.concat([data, pd.DataFrame(response[\"data\"])], ignore_index=True)\n",
    "\n",
    "data[\"date\"] = pd.to_datetime(data[\"date\"], format=\"%Y-%m-%d %H:%M:%S\")\n",
    "data[\"date\"] = data[\"date\"].dt.tz_localize(None)"
   ]
  },
  {
   "cell_type": "code",
   "execution_count": 4,
   "metadata": {},
   "outputs": [],
   "source": [
    "class site():\n",
    "    def __init__(self, data, site_id):\n",
    "        self.data = data[data[\"site_id\"] == site_id]\n",
    "\n",
    "        if self.data.empty:\n",
    "            raise ValueError(\"No data available for this site\")\n",
    "        \n",
    "        self.site_id = site_id\n",
    "\n",
    "        self.reference_data = self.data.query(\"type_appareil_id == 11\")\n",
    "        self.reference_values = self.reference_data.loc[:, [\"valeur\", \"date\"]]\n",
    "\n",
    "        self.microsensor_data = self.data.query(\"type_appareil_id == 57\")\n",
    "        self.microsensor_values = self.microsensor_data.loc[:, [\"valeur\", \"date\"]]\n",
    "\n",
    "    def get_reference_data(self):\n",
    "        return self.reference_data\n",
    "    \n",
    "    def get_microsensor_data(self):\n",
    "        return self.microsensor_data\n",
    "    \n",
    "    def get_reference_values(self):\n",
    "        return self.reference_values\n",
    "    \n",
    "    def get_microsensor_values(self):\n",
    "        return self.microsensor_values\n",
    "    \n",
    "    def filter_date(self, start_date, end_date):\n",
    "        reference = self.get_reference_data()\n",
    "        microsensor = self.get_microsensor_data()\n",
    "\n",
    "        reference = reference[(reference[\"date\"] >= start_date) & (reference[\"date\"] <= end_date)]\n",
    "        microsensor = microsensor[(microsensor[\"date\"] >= start_date) & (microsensor[\"date\"] <= end_date)]\n",
    "\n",
    "        return reference, microsensor\n",
    "    \n",
    "    def plot(self, ax = None, *, kwargs = {}):\n",
    "        if ax is None:\n",
    "            ax = plt.gca()\n",
    "\n",
    "        x_ref = self.reference_values[\"date\"]\n",
    "        y_ref = self.reference_values[\"valeur\"]\n",
    "\n",
    "        x_micro = self.microsensor_values[\"date\"]\n",
    "        y_micro = self.microsensor_values[\"valeur\"]\n",
    "\n",
    "        ax.plot(x_ref, y_ref, label=\"Reference values\")\n",
    "        ax.plot(x_micro, y_micro, label=\"Microsensor values\")\n",
    "        ax.set_title(f\"PM2.5 values for site {self.site_id}\")\n",
    "        ax.set_xlabel(\"Date\")\n",
    "        ax.set_ylabel(\"PM2.5 values (µg/m³)\")\n",
    "        ax.xaxis.set_major_formatter(mdates.ConciseDateFormatter(ax.xaxis.get_major_locator()))\n",
    "        ax.legend()\n",
    "    \n",
    "        return ax"
   ]
  },
  {
   "cell_type": "code",
   "execution_count": 5,
   "metadata": {},
   "outputs": [],
   "source": [
    "site_id_dict = {\n",
    "    \"Saint Martin d'Hères\": \"FR15038\",\n",
    "    \"Les Frenes\": \"FR15043\",\n",
    "    \"Rocade Sud\": \"FR15053\",\n",
    "}\n",
    "\n",
    "LF = site(data, site_id_dict[\"Les Frenes\"])\n",
    "SMH = site(data, site_id_dict[\"Saint Martin d'Hères\"])"
   ]
  }
 ],
 "metadata": {
  "kernelspec": {
   "display_name": "Python 3",
   "language": "python",
   "name": "python3"
  },
  "language_info": {
   "codemirror_mode": {
    "name": "ipython",
    "version": 3
   },
   "file_extension": ".py",
   "mimetype": "text/x-python",
   "name": "python",
   "nbconvert_exporter": "python",
   "pygments_lexer": "ipython3",
   "version": "3.11.1"
  }
 },
 "nbformat": 4,
 "nbformat_minor": 2
}
