{
 "cells": [
  {
   "cell_type": "code",
   "execution_count": null,
   "metadata": {},
   "outputs": [],
   "source": [
    "import pandas as pd\n",
    "import matplotlib.pyplot as plt\n",
    "import matplotlib.cbook as cbook\n",
    "import matplotlib.dates as mdates\n",
    "import requests\n",
    "import seaborn as sns\n",
    "from scipy.stats import skewnorm\n",
    "import numpy as np\n",
    "import json\n",
    "import sys\n",
    "import os\n",
    "\n",
    "# Import modules defined in src/\n",
    "sys.path.append(os.path.abspath('../src'))\n",
    "from seasonality import SeasonalPlotter\n",
    "\n",
    "%matplotlib qt"
   ]
  },
  {
   "cell_type": "code",
   "execution_count": null,
   "metadata": {},
   "outputs": [],
   "source": [
    "# Set seaborn theme\n",
    "sns.set_theme()"
   ]
  },
  {
   "cell_type": "markdown",
   "metadata": {},
   "source": [
    "# Get data"
   ]
  },
  {
   "cell_type": "markdown",
   "metadata": {},
   "source": [
    "Read your personal API key"
   ]
  },
  {
   "cell_type": "code",
   "execution_count": null,
   "metadata": {},
   "outputs": [],
   "source": [
    "with open(\"../api_key\", \"r\") as file:\n",
    "    API_KEY = file.read()"
   ]
  },
  {
   "cell_type": "code",
   "execution_count": null,
   "metadata": {},
   "outputs": [],
   "source": [
    "# Define the API endpoint and parameters\n",
    "url = \"https://api.atmo-aura.fr/api/v1/valeurs/horaire\"\n",
    "\n",
    "data = pd.DataFrame()\n",
    "\n",
    "for site_id in [\"FR15038\", \"FR15043\", \"FR15053\"]:\n",
    "    params = {\n",
    "        \"api_token\": API_KEY,\n",
    "        \"format\": \"json\",\n",
    "        \"sites\": site_id,\n",
    "        \"date_debut\": \"-2 years\",\n",
    "        \"label_court_polluant\": \"PM2.5\",\n",
    "        \"order_by_date\": \"asc\",\n",
    "        \"valeur_brute\": \"1\"\n",
    "    }\n",
    "\n",
    "    # Make the GET request\n",
    "    response = requests.get(url, params=params)\n",
    "\n",
    "    response = json.loads(response.text)\n",
    "    data = pd.concat([data, pd.DataFrame(response[\"data\"])], ignore_index=True)\n",
    "\n",
    "    while response[\"links\"][\"next\"] is not None:\n",
    "        response = requests.get(response[\"links\"][\"next\"])\n",
    "        response = json.loads(response.text)\n",
    "        data = pd.concat([data, pd.DataFrame(response[\"data\"])], ignore_index=True)\n",
    "\n",
    "data[\"date\"] = pd.to_datetime(data[\"date\"])\n",
    "data[\"date\"] = data[\"date\"].dt.tz_localize(None)"
   ]
  },
  {
   "cell_type": "code",
   "execution_count": null,
   "metadata": {},
   "outputs": [],
   "source": [
    "class site():\n",
    "    def __init__(self, data, site_id):\n",
    "        self.data = data[data[\"site_id\"] == site_id]\n",
    "\n",
    "        if self.data.empty:\n",
    "            raise ValueError(\"No data available for this site\")\n",
    "        \n",
    "        self.site_id = site_id\n",
    "\n",
    "        self.reference_data = self.data.query(\"type_appareil_id == 11\")\n",
    "        self.reference_values = self.reference_data.loc[:, [\"valeur\", \"date\"]]\n",
    "\n",
    "        self.microsensor_data = self.data.query(\"type_appareil_id == 57\")\n",
    "        self.microsensor_values = self.microsensor_data.loc[:, [\"valeur\", \"date\"]]\n",
    "\n",
    "    def get_reference_data(self):\n",
    "        return self.reference_data\n",
    "    \n",
    "    def get_microsensor_data(self):\n",
    "        return self.microsensor_data\n",
    "    \n",
    "    def get_reference_values(self):\n",
    "        return self.reference_values\n",
    "    \n",
    "    def get_microsensor_values(self):\n",
    "        return self.microsensor_values\n",
    "    \n",
    "    def filter_date(self, start_date, end_date):\n",
    "        reference = self.get_reference_data()\n",
    "        microsensor = self.get_microsensor_data()\n",
    "\n",
    "        reference = reference[(reference[\"date\"] >= start_date) & (reference[\"date\"] <= end_date)]\n",
    "        microsensor = microsensor[(microsensor[\"date\"] >= start_date) & (microsensor[\"date\"] <= end_date)]\n",
    "\n",
    "        return reference, microsensor\n",
    "    \n",
    "    def plot(self, ax = None, *, kwargs = {}):\n",
    "        if ax is None:\n",
    "            ax = plt.gca()\n",
    "\n",
    "        x_ref = self.reference_values[\"date\"]\n",
    "        y_ref = self.reference_values[\"valeur\"]\n",
    "\n",
    "        x_micro = self.microsensor_values[\"date\"]\n",
    "        y_micro = self.microsensor_values[\"valeur\"]\n",
    "\n",
    "        ax.plot(x_ref, y_ref, label=\"Reference values\")\n",
    "        ax.plot(x_micro, y_micro, label=\"Microsensor values\")\n",
    "        ax.set_title(f\"PM2.5 values for site {self.site_id}\")\n",
    "        ax.set_xlabel(\"Date\")\n",
    "        ax.set_ylabel(\"PM2.5 values (µg/m³)\")\n",
    "        ax.xaxis.set_major_formatter(mdates.ConciseDateFormatter(ax.xaxis.get_major_locator()))\n",
    "        ax.legend()\n",
    "    \n",
    "        return ax"
   ]
  },
  {
   "cell_type": "code",
   "execution_count": null,
   "metadata": {},
   "outputs": [],
   "source": [
    "site_id_dict = {\n",
    "    \"Saint Martin d'Hères\": \"FR15038\",\n",
    "    \"Les Frenes\": \"FR15043\",\n",
    "    \"Rocade Sud\": \"FR15053\",\n",
    "}\n",
    "\n",
    "LF = site(data, site_id_dict[\"Les Frenes\"])\n",
    "SMH = site(data, site_id_dict[\"Saint Martin d'Hères\"])"
   ]
  },
  {
   "cell_type": "markdown",
   "metadata": {},
   "source": [
    "# Descriptive statistics\n",
    "On the SMH station"
   ]
  },
  {
   "cell_type": "markdown",
   "metadata": {},
   "source": [
    "## Differences"
   ]
  },
  {
   "cell_type": "code",
   "execution_count": null,
   "metadata": {},
   "outputs": [],
   "source": [
    "# Filter on date\n",
    "smh_reference, smh_microsensor = SMH.filter_date(\"2023-01-01\", \"2023-12-31\")\n",
    "lf_reference, lf_microsensor = LF.filter_date(\"2023-01-01\", \"2023-12-31\")\n",
    "\n",
    "# Keep a single microsensor for les frenes\n",
    "lf_microsensor = lf_microsensor[lf_microsensor[\"mesure_id\"] == \"FR15043_39_57_3_C1\"]\n",
    "\n",
    "# Merge microsensor and reference data\n",
    "smh_data = pd.merge(smh_reference, smh_microsensor, on=\"date\")\n",
    "lf_data = pd.merge(lf_reference, lf_microsensor, on=\"date\")"
   ]
  },
  {
   "cell_type": "code",
   "execution_count": null,
   "metadata": {},
   "outputs": [],
   "source": [
    "# Compute difference\n",
    "smh_data[\"diff\"] = smh_data[\"valeur_y\"] - smh_data[\"valeur_x\"]\n",
    "lf_data[\"diff\"] = lf_data[\"valeur_y\"] - lf_data[\"valeur_x\"]"
   ]
  },
  {
   "cell_type": "code",
   "execution_count": null,
   "metadata": {},
   "outputs": [],
   "source": [
    "fig, axes = plt.subplots(2, 2, figsize=(12, 5))\n",
    "\n",
    "axes[0, 0].plot(lf_data[\"date\"], lf_data[\"diff\"])\n",
    "axes[0, 0].set_xlabel(\"Date\")\n",
    "axes[0, 0].set_ylabel(\"Difference\")\n",
    "axes[0, 0].set_title(\"Les Frênes station\")\n",
    "\n",
    "sns.histplot(lf_data[\"diff\"], ax=axes[0, 1])\n",
    "axes[0, 1].set_xlabel(\"Difference\")\n",
    "\n",
    "axes[1, 0].plot(smh_data[\"date\"], smh_data[\"diff\"])\n",
    "axes[1, 0].set_xlabel(\"Date\")\n",
    "axes[1, 0].set_ylabel(\"Difference\")\n",
    "\n",
    "sns.histplot(smh_data[\"diff\"], ax=axes[1, 1])\n",
    "axes[1, 1].set_xlabel(\"Difference\")\n",
    "axes[1, 0].set_title(\"Saint-Martin-d'Hères station\")\n",
    "\n",
    "plt.suptitle(\"PM2.5 measure differences between the microsensor and the reference sensor\")\n",
    "plt.tight_layout()\n",
    "plt.show()\n"
   ]
  },
  {
   "cell_type": "markdown",
   "metadata": {},
   "source": [
    "The microsensor of the Saint-Martin-d'Hères station overmeasures systematically the rate of PM2.5 relatively to its reference sensor.  \n",
    "The Les Frênes microsensor is unbiased but with the same order of magnitude of deviation."
   ]
  },
  {
   "cell_type": "markdown",
   "metadata": {},
   "source": [
    "## Distribution"
   ]
  },
  {
   "cell_type": "code",
   "execution_count": null,
   "metadata": {},
   "outputs": [],
   "source": [
    "# Sample x values\n",
    "xx = np.linspace(-10, 40, 100)\n",
    "\n",
    "# Set parameters of skewed normal density function\n",
    "skewness, mean, std = 5.0, 0.0, 5.3\n",
    "\n",
    "# Compute skewed normal density function\n",
    "yy = skewnorm.pdf(xx, skewness, mean, std)"
   ]
  },
  {
   "cell_type": "code",
   "execution_count": null,
   "metadata": {},
   "outputs": [],
   "source": [
    "# Plot the estimated distribution vs the histogram\n",
    "plt.figure(figsize=(12, 6))\n",
    "sns.histplot(smh_data[\"diff\"], stat=\"density\")\n",
    "plt.plot(xx, yy, label=\"Estimated Probability Distribution\", color=\"#FFA07A\", linewidth=2.5)\n",
    "plt.legend()\n",
    "plt.xlabel(\"Difference\")\n",
    "plt.ylabel(\"Density\")\n",
    "plt.title(\"PM2.5 measure differences between the microsensor and the reference sensor of the Saint-Martin-d'Hères station\")"
   ]
  },
  {
   "cell_type": "markdown",
   "metadata": {},
   "source": [
    "## Rolling statistics"
   ]
  },
  {
   "cell_type": "code",
   "execution_count": null,
   "metadata": {},
   "outputs": [],
   "source": [
    "for dataset in [smh_data, lf_data]:\n",
    "    for column in ['x', 'y']:\n",
    "        dataset[f\"moving_average_48_{column}\"] = dataset[f\"valeur_{column}\"].rolling(48).mean()\n",
    "        dataset[f\"moving_variance_48_{column}\"] = dataset[f\"valeur_{column}\"].rolling(48).var()"
   ]
  },
  {
   "cell_type": "code",
   "execution_count": null,
   "metadata": {},
   "outputs": [],
   "source": [
    "fig, axs = plt.subplots(2, 2, figsize=(12, 8))\n",
    "\n",
    "# Plot moving average for smh_data\n",
    "axs[0, 0].plot(smh_data[\"date\"], smh_data[\"moving_average_48_x\"], label=\"Reference sensor\")\n",
    "axs[0, 0].plot(smh_data[\"date\"], smh_data[\"moving_average_48_y\"], label=\"Microsensor\")\n",
    "axs[0, 0].set_ylabel(\"Rolling mean (48h)\")\n",
    "axs[0, 0].set_xlabel(\"Date\")\n",
    "axs[0, 0].set_title(\"Saint-Martin-d'Hères\")\n",
    "axs[0, 0].legend()\n",
    "\n",
    "# Plot moving variance for smh_data\n",
    "axs[1, 0].plot(smh_data[\"date\"], smh_data[\"moving_variance_48_x\"], label=\"Reference sensor\")\n",
    "axs[1, 0].plot(smh_data[\"date\"], smh_data[\"moving_variance_48_y\"], label=\"Microsensor\")\n",
    "axs[1, 0].set_ylabel(\"Rolling variance (48h)\")\n",
    "axs[1, 0].set_xlabel(\"Date\")\n",
    "axs[1, 0].legend()\n",
    "\n",
    "# Plot moving average for lf_data\n",
    "axs[0, 1].plot(lf_data[\"date\"], lf_data[\"moving_average_48_x\"], label=\"Reference sensor\")\n",
    "axs[0, 1].plot(lf_data[\"date\"], lf_data[\"moving_average_48_y\"], label=\"Microsensor\")\n",
    "axs[0, 1].set_ylabel(\"Rolling mean (48h)\")\n",
    "axs[0, 1].set_xlabel(\"Date\")\n",
    "axs[0, 1].set_title(\"Les Frênes\")\n",
    "axs[0, 1].legend()\n",
    "\n",
    "# Plot moving variance for lf_data\n",
    "axs[1, 1].plot(lf_data[\"date\"], lf_data[\"moving_variance_48_x\"], label=\"Reference sensor\")\n",
    "axs[1, 1].plot(lf_data[\"date\"], lf_data[\"moving_variance_48_y\"], label=\"Microsensor\")\n",
    "axs[1, 1].set_ylabel(\"Rolling variance (48h)\")\n",
    "axs[1, 1].set_xlabel(\"Date\")\n",
    "axs[1, 1].legend()\n",
    "\n",
    "plt.tight_layout()\n",
    "plt.show()"
   ]
  },
  {
   "cell_type": "markdown",
   "metadata": {},
   "source": [
    "## Seasonal plot"
   ]
  },
  {
   "cell_type": "code",
   "execution_count": null,
   "metadata": {},
   "outputs": [],
   "source": [
    "# Copy dataframe for seasonal plot\n",
    "smh_data_seasonality = smh_data.copy()"
   ]
  },
  {
   "cell_type": "code",
   "execution_count": null,
   "metadata": {},
   "outputs": [],
   "source": [
    "# Set datetime column as index\n",
    "smh_data_seasonality.set_index(\"date\", inplace=True, drop=True)"
   ]
  },
  {
   "cell_type": "code",
   "execution_count": null,
   "metadata": {},
   "outputs": [],
   "source": [
    "# Adapt pandas index type for passing df to the seasonal plot function\n",
    "smh_data_seasonality.index = smh_data_seasonality.index.to_period(\"h\")"
   ]
  },
  {
   "cell_type": "code",
   "execution_count": null,
   "metadata": {},
   "outputs": [],
   "source": [
    "# Define time variables\n",
    "smh_data_seasonality[\"dayofyear\"] = smh_data_seasonality.index.dayofyear\n",
    "smh_data_seasonality[\"hourofday\"] = smh_data_seasonality.index.hour\n",
    "smh_data_seasonality[\"monthofyear\"] = smh_data_seasonality.index.month"
   ]
  },
  {
   "cell_type": "code",
   "execution_count": null,
   "metadata": {},
   "outputs": [],
   "source": [
    "# Define seasons based on months\n",
    "seasons = {\n",
    "    \"Winter\": [12, 1, 2],\n",
    "    \"Spring\": [3, 4, 5],\n",
    "    \"Summer\": [6, 7, 8],\n",
    "    \"Autumn\": [9, 10, 11],\n",
    "}\n",
    "\n",
    "fig, axes = plt.subplots(2, 2, figsize=(16, 12))\n",
    "axes = axes.flatten()\n",
    "\n",
    "# Iterate through seasons and create plots\n",
    "for i, (season, months) in enumerate(seasons.items()):\n",
    "    # Filter data for the current season\n",
    "    season_data = smh_data_seasonality[smh_data_seasonality[\"monthofyear\"].isin(months)]\n",
    "    \n",
    "    SeasonalPlotter.seasonal_plot(\n",
    "        X=season_data, \n",
    "        y=\"valeur_x\", \n",
    "        period=\"dayofyear\", \n",
    "        freq=\"hourofday\", \n",
    "        ax=axes[i]\n",
    "    )\n",
    "    \n",
    "    axes[i].set_ylabel(\"PM2.5 rate\")\n",
    "    axes[i].set_xlabel(\"Hour in the day\")\n",
    "    axes[i].set_title(season)\n",
    "\n",
    "plt.suptitle(\"Seasonal plot of the quantity of PM2.5 for the SMH reference station\")\n",
    "plt.tight_layout()\n",
    "plt.show()"
   ]
  }
 ],
 "metadata": {
  "kernelspec": {
   "display_name": "atmo-challenge-3vYJEt9I-py3.12",
   "language": "python",
   "name": "python3"
  },
  "language_info": {
   "codemirror_mode": {
    "name": "ipython",
    "version": 3
   },
   "file_extension": ".py",
   "mimetype": "text/x-python",
   "name": "python",
   "nbconvert_exporter": "python",
   "pygments_lexer": "ipython3"
  }
 },
 "nbformat": 4,
 "nbformat_minor": 2
}
